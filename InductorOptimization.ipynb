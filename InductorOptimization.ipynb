{
 "cells": [
  {
   "cell_type": "code",
   "execution_count": 1,
   "metadata": {},
   "outputs": [],
   "source": [
    "# import necessary libraries\n",
    "import matplotlib.pyplot as plt\n",
    "import numpy as np"
   ]
  },
  {
   "cell_type": "code",
   "execution_count": 2,
   "metadata": {},
   "outputs": [],
   "source": [
    "def calc_L(c_val, freq_val):\n",
    "    '''\n",
    "    Calculate an inductance from a capacitance and a resonant frequency.\n",
    "    '''\n",
    "    l_denom = 4 * (np.pi**2) * (freq_val**2) * c_val\n",
    "    l_val = 1 / l_denom\n",
    "    return l_val"
   ]
  },
  {
   "cell_type": "code",
   "execution_count": 3,
   "metadata": {},
   "outputs": [],
   "source": [
    "def calc_C(l_val, freq_val):\n",
    "    '''\n",
    "    Calculate a capacitance from an inductance and a resonant frequency.\n",
    "    '''\n",
    "    c_denom = 4 * (np.pi**2) * (freq_val**2) * l_val\n",
    "    c_val = 1 / c_denom\n",
    "    return c_val"
   ]
  },
  {
   "cell_type": "code",
   "execution_count": 4,
   "metadata": {},
   "outputs": [],
   "source": [
    "def calc_f(c_val, l_val):\n",
    "    '''\n",
    "    Calculate a resonant frequency from a capacitance and an inductance\n",
    "    '''\n",
    "    f_val = (1 / (2*np.pi)) * (1 / np.sqrt(c_val * l_val))\n",
    "    return f_val"
   ]
  },
  {
   "cell_type": "code",
   "execution_count": 5,
   "metadata": {},
   "outputs": [],
   "source": [
    "def calc_frange_midpoint(l_val, c_upper, c_lower):\n",
    "    '''\n",
    "    Calculate the midpoint of a range of frequencies determined by a range of capacitance values.\n",
    "    '''\n",
    "    f_lower = calc_f(c_upper, l_val)\n",
    "    f_upper = calc_f(c_lower, l_val)\n",
    "    midpoint = f_lower + 0.5*(f_upper - f_lower)\n",
    "    return midpoint"
   ]
  },
  {
   "cell_type": "code",
   "execution_count": 6,
   "metadata": {},
   "outputs": [],
   "source": [
    "def optimize(f_val, c_upper, c_lower, samples):\n",
    "    '''\n",
    "    Determine an inductance value that will produce the desired resonant frequency as close as possible\n",
    "    to the midpoint of a range of frequencies determined by a range of capacitance values.\n",
    "    '''\n",
    "    # calculate range of inductances that will contain resonant frequency\n",
    "    l_min = calc_L(c_upper, f_val)\n",
    "    l_max = calc_L(c_lower, f_val)\n",
    "\n",
    "    # create an array of possible inductance values\n",
    "    # increasing `samples` increases the resolution\n",
    "    l_values = np.linspace(l_min, l_max, samples)\n",
    "\n",
    "    n = len(l_values)\n",
    "  \n",
    "    mid_values = np.zeros(n) # store midpoints of frequency ranges\n",
    "    dist_values = np.zeros(n) # store differences between midpoints and resonant frequency\n",
    "  \n",
    "    # for each possible inductance value, \n",
    "    # find the midpoint of the associated frequency range a\n",
    "    # and the difference between midpoint and resonant frequency\n",
    "    for i in range(n):\n",
    "        current_l = l_values[i]\n",
    "        mid_values[i] = calc_frange_midpoint(current_l, c_upper, c_lower)\n",
    "        dist_values[i] = np.abs(mid_values[i] - f_val)\n",
    "\n",
    "    # find the index of the inductance whose midpoint frequency is closest to the resonant frequency\n",
    "    l_index = np.argmin(dist_values)\n",
    "    \n",
    "    # inductance to produce resonant frequency centered in frequency range\n",
    "    optimal_l = l_values[l_index]\n",
    "    return optimal_l"
   ]
  },
  {
   "cell_type": "code",
   "execution_count": 7,
   "metadata": {},
   "outputs": [],
   "source": [
    "# constants\n",
    "f = 1.4e6\n",
    "c_max = 660e-12\n",
    "c_min = 60e-12\n",
    "H_to_mH = 1e6"
   ]
  },
  {
   "cell_type": "code",
   "execution_count": 8,
   "metadata": {},
   "outputs": [
    {
     "name": "stdout",
     "output_type": "stream",
     "text": [
      "Optimal L = 91.22 microH\n"
     ]
    }
   ],
   "source": [
    "optimal_l = optimize(f, c_max, c_min, 100000)\n",
    "optimal_l_mH = optimal_l * H_to_mH\n",
    "print('Optimal L =', np.round(optimal_l_mH,2), 'microH')"
   ]
  },
  {
   "cell_type": "code",
   "execution_count": 9,
   "metadata": {},
   "outputs": [
    {
     "name": "stdout",
     "output_type": "stream",
     "text": [
      "minimum frequency = 648653.25724257 Hz\n",
      "desired frequency = 1400000.0 Hz\n",
      "maximum frequency = 2151339.473315486 Hz\n"
     ]
    }
   ],
   "source": [
    "f_min = calc_f(c_max, optimal_l)\n",
    "f_max = calc_f(c_min, optimal_l)\n",
    "print('minimum frequency =', f_min, 'Hz')\n",
    "print('desired frequency =', f, 'Hz')\n",
    "print('maximum frequency =', f_max, 'Hz')"
   ]
  },
  {
   "cell_type": "markdown",
   "metadata": {},
   "source": [
    "## equations that the functions below are based on HERE"
   ]
  },
  {
   "cell_type": "code",
   "execution_count": 10,
   "metadata": {},
   "outputs": [],
   "source": [
    "def calc_turns(l_val, a_val, tpi):\n",
    "    '''\n",
    "    Calculate number of coils from an inductance, radius, and turns-per-inch associated with wire used.\n",
    "    '''\n",
    "    # solve for roots of equation - print as a check\n",
    "    poly = [a_val**2, l_val*(-10/tpi), -9*a_val*l_val]\n",
    "    turns = np.roots(poly)\n",
    "    print('possible number of turns:', turns, '\\n')\n",
    "    \n",
    "    # extract valid roots\n",
    "    if len(turns) == 0:\n",
    "        # if there are no roots, print error and return nothing\n",
    "        print(\"Uh oh! Problem calculating turns - no roots!\")\n",
    "        return\n",
    "    else:\n",
    "        # check for positive roots\n",
    "        pos_index = np.where(turns >= 0)\n",
    "        if len(pos_index) == 0:\n",
    "            # if there are no positive roots, print error and return nothing\n",
    "            print(\"Uh oh! Problem calculating turns - no positive roots!\")\n",
    "            return\n",
    "        elif len(pos_index) > 1:\n",
    "            # if there are multiple positive roots, return them all\n",
    "            print(\"Heads up! Multiple roots!\")\n",
    "            return turns\n",
    "        else:\n",
    "            # if there is only one positive root, return it\n",
    "            return turns[pos_index]\n",
    "        \n",
    "    return turns"
   ]
  },
  {
   "cell_type": "code",
   "execution_count": 11,
   "metadata": {},
   "outputs": [],
   "source": [
    "def calc_l_fromturns(n_val, a_val, tpi):\n",
    "    '''\n",
    "    Calculate inductance from number of coils, radius, and turns-per-inch of wire used\n",
    "    '''\n",
    "    l_num = (n_val**2)*(a_val**2)\n",
    "    l_denom = (10*(1/tpi)*n_val) + (9*a_val)\n",
    "    l_val = l_num / l_denom\n",
    "    return l_val"
   ]
  },
  {
   "cell_type": "code",
   "execution_count": 12,
   "metadata": {},
   "outputs": [],
   "source": [
    "# constants\n",
    "A = 1\n",
    "turns_per_inch = 30\n",
    "pF_to_F = 1e-12"
   ]
  },
  {
   "cell_type": "code",
   "execution_count": 13,
   "metadata": {},
   "outputs": [
    {
     "name": "stdout",
     "output_type": "stream",
     "text": [
      "possible number of turns: [ 47.63822715 -17.23288698] \n",
      "\n",
      "Inductor should be wound with 48 turns\n",
      "to produce an inductance of 92.16 microH\n",
      "This differs from optimal inductance by 1.02 %\n"
     ]
    }
   ],
   "source": [
    "# calculate number of turns needed to produce desired inductance\n",
    "N = calc_turns(optimal_l_mH, A, turns_per_inch)\n",
    "N_int = int(N[0]+0.5) # account for truncation in int conversion\n",
    "print('Inductor should be wound with', N_int, 'turns')\n",
    "\n",
    "# calculate the actual inductance from the determined number of coils\n",
    "actual_l_mH = calc_l_fromturns(N_int, A, turns_per_inch)\n",
    "actual_l = actual_l_mH / H_to_mH\n",
    "print('to produce an inductance of', actual_l_mH, 'microH')\n",
    "\n",
    "# check that it is approximately equal to optimal inductance\n",
    "percent_diff = 100*np.abs(optimal_l - actual_l) / actual_l\n",
    "print('This differs from optimal inductance by', np.round(percent_diff,2), '%')"
   ]
  },
  {
   "cell_type": "code",
   "execution_count": null,
   "metadata": {},
   "outputs": [],
   "source": []
  }
 ],
 "metadata": {
  "kernelspec": {
   "display_name": "Python 3",
   "language": "python",
   "name": "python3"
  },
  "language_info": {
   "codemirror_mode": {
    "name": "ipython",
    "version": 3
   },
   "file_extension": ".py",
   "mimetype": "text/x-python",
   "name": "python",
   "nbconvert_exporter": "python",
   "pygments_lexer": "ipython3",
   "version": "3.7.3"
  }
 },
 "nbformat": 4,
 "nbformat_minor": 2
}
